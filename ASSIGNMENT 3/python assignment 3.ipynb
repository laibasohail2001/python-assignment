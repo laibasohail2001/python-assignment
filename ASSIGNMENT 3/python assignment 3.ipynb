{
 "cells": [
  {
   "cell_type": "code",
   "execution_count": 1,
   "id": "9c9ddd98",
   "metadata": {},
   "outputs": [
    {
     "name": "stdout",
     "output_type": "stream",
     "text": [
      "\t\t\tQUESTION 1\n",
      " Twinkle,twinkle,little star,\n",
      "\tHow I wonder what you are!\n",
      "\t\t Up above the world so high,\n",
      "\t\t Like a diamond in the sky\n",
      "Twinkle,twinkle,little star,\n",
      "\tHow I wonder what you are!\n"
     ]
    }
   ],
   "source": [
    "print(\"\\t\\t\\tQUESTION 1\\n Twinkle,twinkle,little star,\\n\\tHow I wonder what you are!\\n\\t\\t Up above the world so high,\\n\\t\\t Like a diamond in the sky\\nTwinkle,twinkle,little star,\\n\\tHow I wonder what you are!\")\n"
   ]
  },
  {
   "cell_type": "code",
   "execution_count": 2,
   "id": "1e88bd23",
   "metadata": {},
   "outputs": [
    {
     "name": "stdout",
     "output_type": "stream",
     "text": [
      "\t\tQUESTION 2 \n",
      "\n",
      "3.8.8\n"
     ]
    }
   ],
   "source": [
    "from platform import python_version\n",
    "print(\"\\t\\tQUESTION 2 \\n\")\n",
    "print(python_version())"
   ]
  },
  {
   "cell_type": "code",
   "execution_count": 3,
   "id": "f4e046d7",
   "metadata": {},
   "outputs": [
    {
     "name": "stdout",
     "output_type": "stream",
     "text": [
      "\t\t QUESTION 3\n",
      "\n",
      "Current date and time : \n",
      "2021-10-24 23:55:20\n"
     ]
    }
   ],
   "source": [
    "import datetime\n",
    "print(\"\\t\\t QUESTION 3\\n\")\n",
    "now = datetime.datetime.now()\n",
    "print (\"Current date and time : \")\n",
    "print (now.strftime(\"%Y-%m-%d %H:%M:%S\"))"
   ]
  },
  {
   "cell_type": "code",
   "execution_count": 4,
   "id": "5bba0fff",
   "metadata": {},
   "outputs": [
    {
     "name": "stdout",
     "output_type": "stream",
     "text": [
      "\t\t QUESTION 4\n",
      "\n",
      "enter the radius 8\n",
      "the radius is: 25.12\n"
     ]
    }
   ],
   "source": [
    "print(\"\\t\\t QUESTION 4\\n\")\n",
    "radius = float(input(\"enter the radius \"))\n",
    "area = 3.14*radius\n",
    "print(\"the radius is:\",area)"
   ]
  },
  {
   "cell_type": "code",
   "execution_count": 5,
   "id": "2fb46092",
   "metadata": {},
   "outputs": [
    {
     "name": "stdout",
     "output_type": "stream",
     "text": [
      "\t\t QUESTION 5\n",
      "\n",
      "dlroW olleH\n"
     ]
    }
   ],
   "source": [
    "print(\"\\t\\t QUESTION 5\\n\")\n",
    "txt = \"Hello World\" [::-1]\n",
    "print(txt)"
   ]
  },
  {
   "cell_type": "code",
   "execution_count": 6,
   "id": "42474f0c",
   "metadata": {},
   "outputs": [
    {
     "name": "stdout",
     "output_type": "stream",
     "text": [
      "\t\t QUESTION 5\n",
      "\n",
      "enter your name laiba\n",
      "enter your last name sohail\n",
      "my name is: laibasohail\n",
      "The reversed string is :\n"
     ]
    },
    {
     "ename": "TypeError",
     "evalue": "'NoneType' object is not subscriptable",
     "output_type": "error",
     "traceback": [
      "\u001b[1;31m---------------------------------------------------------------------------\u001b[0m",
      "\u001b[1;31mTypeError\u001b[0m                                 Traceback (most recent call last)",
      "\u001b[1;32m<ipython-input-6-935c0d802051>\u001b[0m in \u001b[0;36m<module>\u001b[1;34m\u001b[0m\n\u001b[0;32m      7\u001b[0m \u001b[0mfull_name\u001b[0m \u001b[1;33m=\u001b[0m \u001b[0mprint\u001b[0m\u001b[1;33m(\u001b[0m\u001b[1;34m\"my name is: \"\u001b[0m \u001b[1;33m+\u001b[0m \u001b[0mfirst\u001b[0m \u001b[1;33m+\u001b[0m \u001b[0mlast\u001b[0m \u001b[1;33m)\u001b[0m\u001b[1;33m\u001b[0m\u001b[1;33m\u001b[0m\u001b[0m\n\u001b[0;32m      8\u001b[0m \u001b[0mprint\u001b[0m \u001b[1;33m(\u001b[0m\u001b[1;34m\"The reversed string is :\"\u001b[0m\u001b[1;33m)\u001b[0m\u001b[1;33m\u001b[0m\u001b[1;33m\u001b[0m\u001b[0m\n\u001b[1;32m----> 9\u001b[1;33m \u001b[0mprint\u001b[0m \u001b[1;33m(\u001b[0m\u001b[0mreverse\u001b[0m\u001b[1;33m(\u001b[0m\u001b[0mfull_name\u001b[0m\u001b[1;33m)\u001b[0m\u001b[1;33m)\u001b[0m\u001b[1;33m\u001b[0m\u001b[1;33m\u001b[0m\u001b[0m\n\u001b[0m",
      "\u001b[1;32m<ipython-input-6-935c0d802051>\u001b[0m in \u001b[0;36mreverse\u001b[1;34m(string)\u001b[0m\n\u001b[0;32m      1\u001b[0m \u001b[1;32mdef\u001b[0m \u001b[0mreverse\u001b[0m\u001b[1;33m(\u001b[0m\u001b[0mstring\u001b[0m\u001b[1;33m)\u001b[0m\u001b[1;33m:\u001b[0m\u001b[1;33m\u001b[0m\u001b[1;33m\u001b[0m\u001b[0m\n\u001b[1;32m----> 2\u001b[1;33m     \u001b[0mstring\u001b[0m \u001b[1;33m=\u001b[0m \u001b[0mstring\u001b[0m\u001b[1;33m[\u001b[0m\u001b[1;33m:\u001b[0m\u001b[1;33m:\u001b[0m\u001b[1;33m-\u001b[0m\u001b[1;36m1\u001b[0m\u001b[1;33m]\u001b[0m\u001b[1;33m\u001b[0m\u001b[1;33m\u001b[0m\u001b[0m\n\u001b[0m\u001b[0;32m      3\u001b[0m     \u001b[1;32mreturn\u001b[0m \u001b[0mstring\u001b[0m\u001b[1;33m\u001b[0m\u001b[1;33m\u001b[0m\u001b[0m\n\u001b[0;32m      4\u001b[0m \u001b[0mprint\u001b[0m\u001b[1;33m(\u001b[0m\u001b[1;34m\"\\t\\t QUESTION 5\\n\"\u001b[0m\u001b[1;33m)\u001b[0m\u001b[1;33m\u001b[0m\u001b[1;33m\u001b[0m\u001b[0m\n\u001b[0;32m      5\u001b[0m \u001b[0mfirst\u001b[0m \u001b[1;33m=\u001b[0m \u001b[0minput\u001b[0m\u001b[1;33m(\u001b[0m\u001b[1;34m\"enter your name \"\u001b[0m\u001b[1;33m)\u001b[0m\u001b[1;33m\u001b[0m\u001b[1;33m\u001b[0m\u001b[0m\n",
      "\u001b[1;31mTypeError\u001b[0m: 'NoneType' object is not subscriptable"
     ]
    }
   ],
   "source": [
    "def reverse(string):\n",
    "    string = string[::-1]\n",
    "    return string\n",
    "print(\"\\t\\t QUESTION 5\\n\")\n",
    "first = input(\"enter your name \")\n",
    "last = input(\"enter your last name \")\n",
    "full_name = print(\"my name is: \" + first + last )\n",
    "print (\"The reversed string is :\")\n",
    "print (reverse(full_name))\n"
   ]
  },
  {
   "cell_type": "code",
   "execution_count": 7,
   "id": "b19cd57e",
   "metadata": {},
   "outputs": [
    {
     "name": "stdout",
     "output_type": "stream",
     "text": [
      "\t\t QUESTION 6\n",
      "\n",
      "enter the first number 11\n",
      "enter the second number 34\n",
      "the total of 2 numbers is:  45.0\n"
     ]
    }
   ],
   "source": [
    "print(\"\\t\\t QUESTION 6\\n\")\n",
    "one = float(input(\"enter the first number \"))\n",
    "second = float(input(\"enter the second number \"))\n",
    "total = one + second\n",
    "print(\"the total of 2 numbers is: \",total)\n"
   ]
  },
  {
   "cell_type": "code",
   "execution_count": 8,
   "id": "3f0bd95e",
   "metadata": {},
   "outputs": [
    {
     "name": "stdout",
     "output_type": "stream",
     "text": [
      "\t\t QUESTION 7\n",
      "\n",
      "enter english marks 90\n",
      "enter maths marks 99\n",
      "enter urdu marks 98\n",
      "enter science marks 97\n",
      "enter pst marks 96\n",
      "the percentage obtained is:  96.0\n",
      "Grade A\n"
     ]
    }
   ],
   "source": [
    "print(\"\\t\\t QUESTION 7\\n\")\n",
    "eng = float(input(\"enter english marks \"))\n",
    "maths = float(input(\"enter maths marks \"))\n",
    "urdu = float(input(\"enter urdu marks \"))\n",
    "science = float(input(\"enter science marks \"))\n",
    "pst = float(input(\"enter pst marks \"))\n",
    "total = eng + maths + urdu + science + pst\n",
    "per = (total/500)*100\n",
    "print(\"the percentage obtained is: \",per)\n",
    "if(per>80 and per<100):\n",
    "    print(\"Grade A\")\n",
    "elif(per>70 and per<80):\n",
    "    print(\"Grade B\")\n",
    "elif(per>60 and per<70):\n",
    "    print(\"Grade C\")\n",
    "elif(per>50 and per<60):\n",
    "    print(\"Grade D\")\n",
    "else:\n",
    "    print(\"FAIL\")"
   ]
  },
  {
   "cell_type": "code",
   "execution_count": 9,
   "id": "d86f9dbf",
   "metadata": {},
   "outputs": [
    {
     "name": "stdout",
     "output_type": "stream",
     "text": [
      "\t\t QUESTION 8\n",
      "\n",
      "enter your number46\n",
      "the number entered is even\n"
     ]
    }
   ],
   "source": [
    "print(\"\\t\\t QUESTION 8\\n\")\n",
    "num = int(input(\"enter your number\"))\n",
    "if(num%2==0):\n",
    "    print(\"the number entered is even\")\n",
    "else:\n",
    "    print(\"the entered number is odd\")"
   ]
  },
  {
   "cell_type": "code",
   "execution_count": 10,
   "id": "d3e12539",
   "metadata": {},
   "outputs": [
    {
     "name": "stdout",
     "output_type": "stream",
     "text": [
      "\t\t\tQUESTION 9\n",
      "\n",
      "Number of items in the list =  3\n"
     ]
    }
   ],
   "source": [
    "print(\"\\t\\t\\tQUESTION 9\\n\")\n",
    "ListName = [1, 2, 3]\n",
    "print (\"Number of items in the list = \", len(ListName))"
   ]
  },
  {
   "cell_type": "code",
   "execution_count": 11,
   "id": "9f9427eb",
   "metadata": {},
   "outputs": [
    {
     "name": "stdout",
     "output_type": "stream",
     "text": [
      "\t\t\tQUESTION 10\n",
      "\n",
      "sum of all the elements in the list:  6\n"
     ]
    }
   ],
   "source": [
    "print(\"\\t\\t\\tQUESTION 10\\n\")\n",
    "total = 0\n",
    "ListName = [1, 2, 3]\n",
    "for n in range(0,len(ListName)):\n",
    "    total =total + ListName[n]\n",
    "print(\"sum of all the elements in the list: \",total)"
   ]
  },
  {
   "cell_type": "code",
   "execution_count": 12,
   "id": "cef4bcaa",
   "metadata": {},
   "outputs": [
    {
     "name": "stdout",
     "output_type": "stream",
     "text": [
      "\t\t\tQUESTION 11\n",
      "\n",
      "Largest number in the list is:  90\n"
     ]
    }
   ],
   "source": [
    "print(\"\\t\\t\\tQUESTION 11\\n\")\n",
    "l = [22,33,44,90,78]\n",
    "l.sort()\n",
    "print(\"Largest number in the list is: \",l[-1])"
   ]
  },
  {
   "cell_type": "code",
   "execution_count": 13,
   "id": "c42f0012",
   "metadata": {},
   "outputs": [
    {
     "name": "stdout",
     "output_type": "stream",
     "text": [
      "\t\t\tQUESTION 12\n",
      "\n",
      "[1, 1, 2, 3]\n"
     ]
    }
   ],
   "source": [
    "print(\"\\t\\t\\tQUESTION 12\\n\")\n",
    "new_list=[]\n",
    "l = [1,1,2,3,5,8,13,21,34,55,89]\n",
    "\n",
    "for i in l:\n",
    "    if(i<5):\n",
    "        new_list.append(i)\n",
    "print(new_list)\n",
    "    "
   ]
  },
  {
   "cell_type": "code",
   "execution_count": null,
   "id": "01533153",
   "metadata": {},
   "outputs": [],
   "source": []
  }
 ],
 "metadata": {
  "kernelspec": {
   "display_name": "Python 3",
   "language": "python",
   "name": "python3"
  },
  "language_info": {
   "codemirror_mode": {
    "name": "ipython",
    "version": 3
   },
   "file_extension": ".py",
   "mimetype": "text/x-python",
   "name": "python",
   "nbconvert_exporter": "python",
   "pygments_lexer": "ipython3",
   "version": "3.8.8"
  }
 },
 "nbformat": 4,
 "nbformat_minor": 5
}
